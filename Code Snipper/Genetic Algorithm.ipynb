{
 "cells": [
  {
   "cell_type": "markdown",
   "metadata": {},
   "source": [
    "This is a simple illustration of a Genetic Algorithm solving the All-Ones problem and similar problems. The code is not optimise for speed, but could be useful to get started."
   ]
  },
  {
   "cell_type": "code",
   "execution_count": 1,
   "metadata": {},
   "outputs": [],
   "source": [
    "import numpy as np\n",
    "import pylab\n",
    "import itertools"
   ]
  },
  {
   "cell_type": "markdown",
   "metadata": {},
   "source": [
    "We start with some definitions: \n",
    " - The problem dimension D is usually implied by the application domain, but it may be useful to optimise the representation\n",
    " - The population size (usually a few dozens, but can be more in complex problems) and the maximial run time is limited by the available computation resources\n",
    " - For mutation and crossover proabilities we take standard values, please check whether other values give better results "
   ]
  },
  {
   "cell_type": "code",
   "execution_count": 2,
   "metadata": {},
   "outputs": [],
   "source": [
    "D = 10; # Dimension of the search space\n",
    "        # an feature characterises the problem to be solved\n",
    "    \n",
    "N = 10; # Size of the population of solutions, usually much larger\n",
    "T = 100; # Number of generations. Often needs to be larger than this.\n",
    "p_c = 0.7; # Crossover probability\n",
    "p_m = 0.01; # Mutation probbability\n",
    "\n",
    "Z = 10; # For evaluation, it is a good idea to run the algorithms several times,\n",
    "        # to find out whether it consistently gives good results.  "
   ]
  },
  {
   "cell_type": "markdown",
   "metadata": {},
   "source": [
    "Elitism is not implemented here. What does it mean and how can you include it here?"
   ]
  },
  {
   "cell_type": "code",
   "execution_count": 3,
   "metadata": {},
   "outputs": [],
   "source": [
    "elitism = 0; # A binary switch for whether elitism is used (1) or not (0) "
   ]
  },
  {
   "cell_type": "markdown",
   "metadata": {},
   "source": [
    "We will now generate a goal which will then be maximum of the fitness function."
   ]
  },
  {
   "cell_type": "code",
   "execution_count": 4,
   "metadata": {},
   "outputs": [
    {
     "name": "stdout",
     "output_type": "stream",
     "text": [
      "[1 0 1 1 1 0 0 1 1 0]\n"
     ]
    }
   ],
   "source": [
    "goal = np.random.randint(2, size = D)\n",
    "# This is not really different from the all-ones as a goal:\n",
    "# goal = np.ones((D,), dtype=int)\n",
    "# More important is the way in which the goal is represened in the fitness function, see below.\n",
    "print(goal)"
   ]
  },
  {
   "cell_type": "code",
   "execution_count": 5,
   "metadata": {},
   "outputs": [],
   "source": [
    "def fitness_func(solution, population):\n",
    "    fitness_list = np.zeros(N)\n",
    "    # We compare simply the elements of the goal (see above) with the current solutions\n",
    "    # Summing over the binary values, we get a fitness\n",
    "    for member in range(len(population)):\n",
    "        fitness = np.count_nonzero(solution==population[member])\n",
    "        if fitness != D: fitness = 0 # This turns the problem into a needle-in-the-haystack problem, \n",
    "        # which may require a large T to be solvable \n",
    "        # fitness = (fitness//4)*4 # What does this do to the problem? \n",
    "        fitness_list[member] = fitness\n",
    "        # And then we sort the population by descending fitness, this is useful for \n",
    "        fitness_indices = (-fitness_list).argsort()\n",
    "        sorted_pop = population[fitness_indices]\n",
    "    avg_fitness = np.sum(fitness_list)/N\n",
    "    max_fitness = max(fitness_list)\n",
    "    fitness_list = fitness_list[fitness_indices]\n",
    "    return sorted_pop, fitness_list, avg_fitness, max_fitness"
   ]
  },
  {
   "cell_type": "code",
   "execution_count": 6,
   "metadata": {},
   "outputs": [],
   "source": [
    "def roulette_wheel_selection(sorted_pop, fitness_list):\n",
    "    intermediate_pop = np.zeros((N,D))\n",
    "    select_from = np.arange(N)\n",
    "    total_fit = np.sum(fitness_list)\n",
    "    if total_fit == 0: \n",
    "        total_fit=1\n",
    "        relative_fitness= fitness_list +1/N\n",
    "    else:\n",
    "        relative_fitness = fitness_list / total_fit\n",
    "    mating_population = np.random.choice(select_from,N, p=relative_fitness)\n",
    "    for member in range(len(mating_population)):\n",
    "        intermediate_pop[member] = sorted_pop[mating_population[member]]\n",
    "    return intermediate_pop"
   ]
  },
  {
   "cell_type": "code",
   "execution_count": 7,
   "metadata": {},
   "outputs": [],
   "source": [
    "def crossover(parent1, parent2):\n",
    "    c_point = np.random.randint(0, D) # Crossover point\n",
    "    child1 = np.zeros(D)\n",
    "    child2 = np.zeros(D)\n",
    "    for chromosome in range(c_point):\n",
    "        child1[chromosome] = parent1[chromosome]\n",
    "        child2[chromosome] = parent2[chromosome]\n",
    "    for chromosome in range(D-c_point):\n",
    "        child1[c_point+chromosome] = parent2[c_point+chromosome]\n",
    "        child2[c_point+chromosome] = parent1[c_point+chromosome]\n",
    "    return child1, child2"
   ]
  },
  {
   "cell_type": "code",
   "execution_count": 8,
   "metadata": {},
   "outputs": [],
   "source": [
    "def mutate(population):\n",
    "    for member in range(len(population)):\n",
    "        for chromosome in range(D):\n",
    "            if np.random.rand()<p_m:\n",
    "                if population[member][chromosome] == 0:\n",
    "                    population[member][chromosome] = 1\n",
    "                else:\n",
    "                    population[member][chromosome] = 0\n",
    "    return population"
   ]
  },
  {
   "cell_type": "code",
   "execution_count": 9,
   "metadata": {},
   "outputs": [],
   "source": [
    "def new_generation(intermediate_pop):\n",
    "    new_pop = np.zeros((N,D))\n",
    "    parent_list = np.arange(N)\n",
    "    pairings = np.random.choice(parent_list, (2,int(N/2)), replace =False)\n",
    "    #print(pairings)\n",
    "    for x in range(np.int(N/2)):\n",
    "        parent1 = pairings[0][x]\n",
    "        parent2 = pairings[1][x]\n",
    "        new_pop[x], new_pop[(N-1)-x] = crossover(intermediate_pop[parent1], intermediate_pop[parent2])\n",
    "    mutate(new_pop)\n",
    "    return new_pop"
   ]
  },
  {
   "cell_type": "code",
   "execution_count": 15,
   "metadata": {},
   "outputs": [
    {
     "name": "stdout",
     "output_type": "stream",
     "text": [
      "[[0 0 0 0 1 1 0 1 1 1]\n",
      " [0 0 0 1 0 1 0 0 1 0]\n",
      " [0 1 1 0 1 1 0 1 1 0]\n",
      " [0 0 0 0 0 1 1 1 0 0]\n",
      " [0 0 1 0 0 1 0 0 1 0]\n",
      " [1 1 1 1 1 1 1 1 0 0]\n",
      " [1 0 0 1 1 0 1 1 1 1]\n",
      " [0 0 0 1 1 1 0 0 0 1]\n",
      " [1 1 0 0 0 0 1 0 0 1]\n",
      " [0 1 1 0 1 1 1 0 1 1]]\n"
     ]
    }
   ],
   "source": [
    "init_pop = np.random.randint(2, size = (N,D))\n",
    "print(init_pop)"
   ]
  },
  {
   "cell_type": "code",
   "execution_count": 16,
   "metadata": {},
   "outputs": [
    {
     "name": "stdout",
     "output_type": "stream",
     "text": [
      "Found perfect solution at generation 92\n",
      "[0.0, 0.0, 0.0, 0.0, 0.0, 0.0, 0.0, 0.0, 0.0, 0.0, 0.0, 0.0, 0.0, 0.0, 0.0, 0.0, 0.0, 0.0, 0.0, 0.0, 0.0, 0.0, 0.0, 0.0, 0.0, 0.0, 0.0, 0.0, 0.0, 0.0, 0.0, 0.0, 0.0, 0.0, 0.0, 0.0, 0.0, 0.0, 0.0, 0.0, 0.0, 0.0, 0.0, 0.0, 0.0, 0.0, 0.0, 0.0, 0.0, 0.0, 0.0, 0.0, 0.0, 0.0, 0.0, 0.0, 0.0, 0.0, 0.0, 0.0, 0.0, 0.0, 0.0, 0.0, 0.0, 0.0, 0.0, 0.0, 0.0, 0.0, 0.0, 0.0, 0.0, 0.0, 0.0, 0.0, 0.0, 0.0, 0.0, 0.0, 0.0, 0.0, 0.0, 0.0, 0.0, 0.0, 0.0, 0.0, 0.0, 0.0, 0.0, 0.0, 1.0]\n"
     ]
    }
   ],
   "source": [
    "generation_avg_fitness = []\n",
    "generation_max_fitness = []\n",
    "cur_gen = init_pop\n",
    "for t in range(T):\n",
    "    sorted_pop, fitness_list, avg_fitness, max_fitness = fitness_func(goal, cur_gen)\n",
    "    generation_avg_fitness.append(avg_fitness)\n",
    "    generation_max_fitness.append(max_fitness)\n",
    "    intermediate_pop = roulette_wheel_selection(sorted_pop, fitness_list)\n",
    "    new_gen = new_generation(intermediate_pop)\n",
    "    cur_gen = new_gen\n",
    "    if max_fitness == D:\n",
    "        print(f\"Found perfect solution at generation {t}\")\n",
    "        break # you may like to remove the break to see how the avarege fitness approach the maximal fitness\n",
    "print(generation_avg_fitness)"
   ]
  },
  {
   "cell_type": "code",
   "execution_count": 17,
   "metadata": {},
   "outputs": [
    {
     "data": {
      "image/png": "[encoded data removed]",
      "text/plain": [
       "<Figure size 432x288 with 1 Axes>"
      ]
     },
     "metadata": {
      "needs_background": "light"
     },
     "output_type": "display_data"
    }
   ],
   "source": [
    "pylab.plot(generation_avg_fitness);\n",
    "pylab.plot(generation_max_fitness);"
   ]
  },
  {
   "cell_type": "markdown",
   "metadata": {},
   "source": [
    "The following will take a while to complete, you may also like to how many repetitions are needed for statistical evaluation. "
   ]
  },
  {
   "cell_type": "code",
   "execution_count": 27,
   "metadata": {},
   "outputs": [],
   "source": [
    "generation_avg_fitness = []\n",
    "generation_max_fitness = []\n",
    "mean_max_fitness = np.zeros(T)\n",
    "for z in range(Z):\n",
    "    cur_gen = init_pop\n",
    "    for t in range(T):\n",
    "        sorted_pop, fitness_list, avg_fitness, max_fitness = fitness_func(goal, cur_gen)\n",
    "        generation_avg_fitness.append(avg_fitness)\n",
    "        generation_max_fitness.append(max_fitness)\n",
    "        intermediate_pop = roulette_wheel_selection(sorted_pop, fitness_list)\n",
    "        new_gen = new_generation(intermediate_pop)\n",
    "        cur_gen = new_gen\n",
    "        mean_max_fitness[t]=(1.0-1.0/(z+1))*mean_max_fitness[t]+(1.0/(z+1))*max_fitness    "
   ]
  },
  {
   "cell_type": "code",
   "execution_count": 28,
   "metadata": {},
   "outputs": [
    {
     "data": {
      "image/png": "[encoded data removed]",
      "text/plain": [
       "<Figure size 432x288 with 1 Axes>"
      ]
     },
     "metadata": {
      "needs_background": "light"
     },
     "output_type": "display_data"
    }
   ],
   "source": [
    "pylab.plot(mean_max_fitness);"
   ]
  },
  {
   "cell_type": "markdown",
   "metadata": {},
   "source": [
    "Can you plot after how many generations the optimal solution is found on average (if at all)?"
   ]
  }
 ],
 "metadata": {
  "kernelspec": {
   "display_name": "Python 3 (ipykernel)",
   "language": "python",
   "name": "python3"
  },
  "language_info": {
   "codemirror_mode": {
    "name": "ipython",
    "version": 3
   },
   "file_extension": ".py",
   "mimetype": "text/x-python",
   "name": "python",
   "nbconvert_exporter": "python",
   "pygments_lexer": "ipython3",
   "version": "3.8.10"
  }
 },
 "nbformat": 4,
 "nbformat_minor": 4
}
